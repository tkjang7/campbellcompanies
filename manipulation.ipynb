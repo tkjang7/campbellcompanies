{
 "cells": [
  {
   "cell_type": "code",
   "execution_count": 1,
   "metadata": {},
   "outputs": [],
   "source": [
    "import pandas as pd\n",
    "import win32com.client\n",
    "\n",
    "xl = win32com.client.Dispatch('Excel.Application')\n",
    "xl.visible = True\n",
    "wb = xl.Workbooks.Open(\"S:\\\\01 Wheeler Files\\\\Departments\\\\General Accounting\\\\01 Month End Recons\\\\2021\\\\2021-06\\\\21100s - Other Current Liab\\\\21120-06.xlsm\")\n",
    "\n",
    "\n",
    "\n",
    "\n",
    "\n",
    "\n",
    "\n",
    "\n",
    "######################################\n",
    "######################################\n",
    "ws3 = wb.Worksheets('Estimates Data_')\n",
    "lastrow=ws3.UsedRange.Rows.Count\n",
    "\n",
    "li1=ws3.Range('A1:A{}'.format(lastrow)).Value\n",
    "\n",
    "\n",
    "\n",
    "\n",
    "ws4 = wb.Worksheets('TB as of now (machines)')\n",
    "lastrow=ws4.UsedRange.Rows.Count\n",
    "\n",
    "li2 = ws4.Range('D1:D{}'.format(lastrow)).Value\n"
   ]
  },
  {
   "cell_type": "code",
   "execution_count": 2,
   "metadata": {},
   "outputs": [],
   "source": [
    "machine1 = []\n",
    "\n",
    "for i in range(1,len(li1)):\n",
    "    machine1.append(li1[i][0])\n",
    "    \n",
    "    \n",
    "machine2 = []\n",
    "\n",
    "for i in range(1,len(li2)):\n",
    "    machine2.append(li2[i][0])"
   ]
  },
  {
   "cell_type": "code",
   "execution_count": 3,
   "metadata": {},
   "outputs": [],
   "source": [
    "ws2 = wb.Worksheets('discrepencies')\n",
    "ws2.AutoFilterMode = False\n",
    "ws2.Cells.Clear()\n",
    "\n",
    "idx = 2\n",
    "ws2.Cells(1,1).Value = 'Machine ID'\n",
    "ws2.Cells(1,2).Value = 'DBS'\n",
    "ws2.Cells(1,3).Value = 'CODA'\n",
    "ws2.Cells(1,4).Value = 'diff'\n",
    "machine_li=list(set(machine1+machine2))\n",
    "for j in machine_li:\n",
    "    \n",
    "    ws2.Cells(idx,1).Value = j\n",
    "    idx += 1"
   ]
  },
  {
   "cell_type": "code",
   "execution_count": 4,
   "metadata": {},
   "outputs": [],
   "source": [
    "ws2.Range('B2').Formula = '=SUMIF(Query4[Machine ID],discrepencies!A2,Query4[Estimate Amount])'\n",
    "\n",
    "ws2.Range('C2').Formula = '=SUMIF(Query16[REF2],discrepencies!A2,Query16[SumOfVALUEDOC])'\n",
    "\n",
    "ws2.Range('D2').Formula = '=B2+C2'"
   ]
  },
  {
   "cell_type": "code",
   "execution_count": 5,
   "metadata": {
    "scrolled": true
   },
   "outputs": [],
   "source": [
    "lastrow = ws2.UsedRange.Rows.Count\n",
    "sourceRange = ws2.Range('B2:D2')\n",
    "fillRange = ws2.Range('B2:D{}'.format(lastrow))\n",
    "\n",
    "sourceRange.AutoFill(Destination = fillRange)\n",
    "\n",
    "\n",
    "\n",
    "ws2.UsedRange.NumberFormat = \"#,##0.00_);(#,##0.00)\""
   ]
  },
  {
   "cell_type": "code",
   "execution_count": 6,
   "metadata": {},
   "outputs": [],
   "source": [
    "pdlist =[] \n",
    "dt = ws2.UsedRange.Value\n",
    "\n",
    "for i in range(1,len(dt)):\n",
    "    i=dt[i]\n",
    "    pdlist.append(list(i))\n",
    "\n",
    "pd_dt = pd.DataFrame(pdlist, columns=dt[0])"
   ]
  },
  {
   "cell_type": "code",
   "execution_count": 7,
   "metadata": {},
   "outputs": [
    {
     "data": {
      "text/plain": [
       "False"
      ]
     },
     "execution_count": 7,
     "metadata": {},
     "output_type": "execute_result"
    }
   ],
   "source": [
    "str(pd_dt['Machine ID'][0])+'U' in list(pd_dt['Machine ID'])"
   ]
  },
  {
   "cell_type": "code",
   "execution_count": 8,
   "metadata": {},
   "outputs": [
    {
     "name": "stdout",
     "output_type": "stream",
     "text": [
      "CCE02618 71 910\n",
      "AA007483 113 358\n",
      "AA007051 154 115\n",
      "AA007474 168 812\n",
      "AA007458 306 292\n",
      "CCE03127 340 951\n",
      "AA007482 377 473\n",
      "AA007931 385 116\n",
      "CCE02913 395 466\n",
      "AA007470 472 736\n",
      "CCE02891 493 238\n",
      "CCE02564 509 721\n",
      "CCE02307 540 808\n",
      "CCE02765 608 5\n",
      "AA007463 668 262\n",
      "CCE03279 749 863\n",
      "AA007471 797 941\n",
      "AA007461 852 849\n",
      "AA007457 860 829\n",
      "CCE03100 904 38\n",
      "AA007455 971 683\n"
     ]
    }
   ],
   "source": [
    "Olist = []\n",
    "Ulist = []\n",
    "\n",
    "\n",
    "for i in range(len(pdlist)):\n",
    "\n",
    "    if pd_dt['Machine ID'][i]+'U' in list(pd_dt['Machine ID']):\n",
    "\n",
    "        #Index of +'U'\n",
    "        idx = list(pd_dt['Machine ID']).index(pd_dt['Machine ID'][i]+'U')      \n",
    "        \n",
    "        \n",
    "        # if the difference of diffrence is 0...\n",
    "        if pd_dt['diff'][i] + pd_dt['diff'][idx] == 0:\n",
    "            print(pd_dt['Machine ID'][i], i, idx)\n",
    "                       \n",
    "            \n",
    "            Olist.append(i)\n",
    "            Ulist.append(idx)"
   ]
  },
  {
   "cell_type": "code",
   "execution_count": 9,
   "metadata": {},
   "outputs": [],
   "source": [
    "for o in Olist:\n",
    "    oRow = o+2\n",
    "    ws2.Range('A{}:D{}'.format(oRow,oRow)).Interior.Color = '&H85CA56'\n",
    "    \n",
    "    \n",
    "for u in Ulist:\n",
    "    uRow = u+2\n",
    "    ws2.Range('A{}:D{}'.format(uRow,uRow)).Interior.Color = '&H85CA56'"
   ]
  },
  {
   "cell_type": "code",
   "execution_count": 10,
   "metadata": {},
   "outputs": [
    {
     "data": {
      "text/plain": [
       "True"
      ]
     },
     "execution_count": 10,
     "metadata": {},
     "output_type": "execute_result"
    }
   ],
   "source": [
    "ws2.UsedRange.AutoFilter(4, Criteria1='> 0.01', Operator=2, Criteria2='<-0.01')"
   ]
  },
  {
   "cell_type": "code",
   "execution_count": 12,
   "metadata": {},
   "outputs": [
    {
     "data": {
      "text/plain": [
       "'None'"
      ]
     },
     "execution_count": 12,
     "metadata": {},
     "output_type": "execute_result"
    }
   ],
   "source": [
    "None"
   ]
  }
 ],
 "metadata": {
  "kernelspec": {
   "display_name": "Python 3",
   "language": "python",
   "name": "python3"
  },
  "language_info": {
   "codemirror_mode": {
    "name": "ipython",
    "version": 3
   },
   "file_extension": ".py",
   "mimetype": "text/x-python",
   "name": "python",
   "nbconvert_exporter": "python",
   "pygments_lexer": "ipython3",
   "version": "3.8.3"
  }
 },
 "nbformat": 4,
 "nbformat_minor": 4
}
