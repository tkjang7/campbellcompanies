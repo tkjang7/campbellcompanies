{
 "cells": [
  {
   "cell_type": "code",
   "execution_count": 1,
   "metadata": {},
   "outputs": [],
   "source": [
    "import pandas as pd\n",
    "import pyodbc\n",
    "import pandasql as ps\n",
    "import numpy as np"
   ]
  },
  {
   "cell_type": "code",
   "execution_count": 106,
   "metadata": {},
   "outputs": [],
   "source": [
    "conn = pyodbc.connect('Driver={SQL Server};'\n",
    "                      'Server=dbssql3;'\n",
    "#                       'Database=LIBE48;'\n",
    "                      'Trusted_Connection=yes;')\n",
    "cursor=conn.cursor()"
   ]
  },
  {
   "cell_type": "code",
   "execution_count": 107,
   "metadata": {},
   "outputs": [],
   "source": [
    "df = pd.read_csv('I:/LKE/CUNO1_to_EL2_LookUp.csv', encoding='UTF-8')\n",
    "#df=df.replace(np.nan, '')\n",
    "df.CODA_EL2 = df.CODA_EL2.replace(np.nan, 0).astype(int)\n",
    "df.Rental_Code = df.Rental_Code.replace(np.nan, \"NULL\")\n",
    "df.Group = df.Group.replace(np.nan, \"NULL\")\n",
    "df.DBS_Inventory_Customer = df.DBS_Inventory_Customer.replace(np.nan, \"NULL\")"
   ]
  },
  {
   "cell_type": "code",
   "execution_count": 91,
   "metadata": {},
   "outputs": [
    {
     "ename": "ProgrammingError",
     "evalue": "Attempt to use a closed cursor.",
     "output_type": "error",
     "traceback": [
      "\u001b[1;31m---------------------------------------------------------------------------\u001b[0m",
      "\u001b[1;31mProgrammingError\u001b[0m                          Traceback (most recent call last)",
      "\u001b[1;32m<ipython-input-91-5c64028d44ff>\u001b[0m in \u001b[0;36m<module>\u001b[1;34m\u001b[0m\n\u001b[1;32m----> 1\u001b[1;33m \u001b[0mcursor\u001b[0m\u001b[1;33m.\u001b[0m\u001b[0mexecute\u001b[0m\u001b[1;33m(\u001b[0m\u001b[1;34m\"DROP TABLE Accounting_Analysts.dbo.CODA_DBS_Lookup_test\"\u001b[0m\u001b[1;33m)\u001b[0m\u001b[1;33m\u001b[0m\u001b[1;33m\u001b[0m\u001b[0m\n\u001b[0m\u001b[0;32m      2\u001b[0m \u001b[0mconn\u001b[0m\u001b[1;33m.\u001b[0m\u001b[0mcommit\u001b[0m\u001b[1;33m(\u001b[0m\u001b[1;33m)\u001b[0m\u001b[1;33m\u001b[0m\u001b[1;33m\u001b[0m\u001b[0m\n\u001b[0;32m      3\u001b[0m \u001b[0mcursor\u001b[0m\u001b[1;33m.\u001b[0m\u001b[0mclose\u001b[0m\u001b[1;33m(\u001b[0m\u001b[1;33m)\u001b[0m\u001b[1;33m\u001b[0m\u001b[1;33m\u001b[0m\u001b[0m\n",
      "\u001b[1;31mProgrammingError\u001b[0m: Attempt to use a closed cursor."
     ]
    }
   ],
   "source": [
    "cursor.execute(\"DROP TABLE Accounting_Analysts.dbo.CODA_DBS_Lookup_test\")\n",
    "conn.commit()\n",
    "cursor.close()"
   ]
  },
  {
   "cell_type": "code",
   "execution_count": 42,
   "metadata": {},
   "outputs": [],
   "source": [
    "cursor.execute(\"\"\"CREATE TABLE Accounting_Analysts.dbo.CODA_DBS_Lookup_test (CODA_EL INT, Rental_Code VARCHAR(70), [GROUP] VARCHAR(70), DBS_Inventory_Customer VARCHAR(70))\"\"\")\n",
    "conn.commit()\n",
    "cursor.close()"
   ]
  },
  {
   "cell_type": "code",
   "execution_count": 121,
   "metadata": {
    "scrolled": true
   },
   "outputs": [],
   "source": [
    "# cursor.execute(\"INSERT INTO Accounting_Analysts.dbo.CODA_DBS_Lookup_test values (12345, {}, 'ggg', 'fff')\".format(None))\n",
    "\n",
    "\n",
    "value = None\n",
    "cursor.execute(\"\"\"INSERT INTO Accounting_Analysts.dbo.CODA_DBS_Lookup_test (Rental_Code) VALUES ({})\"\"\".format(\"NULL\"))\n",
    "conn.commit()\n",
    "cursor.close()\n",
    "\n",
    "\n"
   ]
  },
  {
   "cell_type": "code",
   "execution_count": 134,
   "metadata": {},
   "outputs": [
    {
     "data": {
      "text/plain": [
       "\"INSERT INTO Accounting_Analysts.dbo.CODA_DBS_Lookup_test VALUES (12345, 'test', '{}', {})\""
      ]
     },
     "execution_count": 134,
     "metadata": {},
     "output_type": "execute_result"
    }
   ],
   "source": [
    "\n",
    "\"\"\"INSERT INTO Accounting_Analysts.dbo.CODA_DBS_Lookup_test VALUES (12345, 'test', {}, {})\"\"\".replace('{}', \"'{}'\", 1)#.format(\"NULL\")\n",
    "# \"\"\"INSERT INTO Accounting_Analysts.dbo.CODA_DBS_Lookup_test values (%s, %s, '%s', %s)\"\"\" % (c1,c2,c3,c4)"
   ]
  },
  {
   "cell_type": "code",
   "execution_count": 150,
   "metadata": {},
   "outputs": [
    {
     "data": {
      "text/plain": [
       "\"INSERT INTO Accounting_Analysts.dbo.CODA_DBS_Lookup_test VALUES (12345, 'test', '{}', {})\""
      ]
     },
     "execution_count": 150,
     "metadata": {},
     "output_type": "execute_result"
    }
   ],
   "source": [
    "def replacenth(instring,pattern,replacement,n=[1]):\n",
    "    \"\"\"\n",
    "\n",
    "    Replace specified instance(s) of pattern in string.\n",
    "\n",
    "      Positional arguments\n",
    "        instring - input string\n",
    "         pattern - regular expression pattern to search for\n",
    "     replacement - replacement\n",
    "\n",
    "      Keyword arguments\n",
    "               n - list of instances requested to be replaced [default [1]]\n",
    "\n",
    "    \"\"\"\n",
    "\n",
    "    import re\n",
    "    outstring=''\n",
    "    i=0\n",
    "    for j,m in enumerate(re.finditer(pattern,instring)):\n",
    "        if j+1 in n: outstring+=instring[i:m.start()]+replacement\n",
    "        else: outstring+=instring[i:m.end()]\n",
    "        i=m.end()\n",
    "    outstring+=instring[i:]\n",
    "    return outstring\n",
    "    \n",
    "    \n",
    "string = \"\"\"INSERT INTO Accounting_Analysts.dbo.CODA_DBS_Lookup_test VALUES (12345, 'test', {}, {})\"\"\"    \n",
    "replacenth(string, '{}', \"'{}'\", [1])"
   ]
  },
  {
   "cell_type": "code",
   "execution_count": 162,
   "metadata": {},
   "outputs": [
    {
     "name": "stdout",
     "output_type": "stream",
     "text": [
      "1\n",
      "3\n"
     ]
    }
   ],
   "source": [
    "for a in re.finditer('{}', 's{}'):\n",
    "    print(a.start())\n",
    "    print(a.end())"
   ]
  },
  {
   "cell_type": "code",
   "execution_count": 105,
   "metadata": {},
   "outputs": [
    {
     "data": {
      "text/plain": [
       "[13010, 'NULL', 'NULL', 'I13010A']"
      ]
     },
     "execution_count": 105,
     "metadata": {},
     "output_type": "execute_result"
    }
   ],
   "source": [
    "list(df.iloc[i].values)\n",
    "        "
   ]
  },
  {
   "cell_type": "code",
   "execution_count": 112,
   "metadata": {},
   "outputs": [
    {
     "ename": "ProgrammingError",
     "evalue": "('42000', \"[42000] [Microsoft][ODBC SQL Server Driver][SQL Server]Incorrect syntax near 'Rental'. (102) (SQLExecDirectW)\")",
     "output_type": "error",
     "traceback": [
      "\u001b[1;31m---------------------------------------------------------------------------\u001b[0m",
      "\u001b[1;31mProgrammingError\u001b[0m                          Traceback (most recent call last)",
      "\u001b[1;32m<ipython-input-112-d2235ccd024b>\u001b[0m in \u001b[0;36m<module>\u001b[1;34m\u001b[0m\n\u001b[0;32m      4\u001b[0m     \u001b[0mc3\u001b[0m \u001b[1;33m=\u001b[0m \u001b[0mtuple\u001b[0m\u001b[1;33m(\u001b[0m\u001b[0mdf\u001b[0m\u001b[1;33m.\u001b[0m\u001b[0miloc\u001b[0m\u001b[1;33m[\u001b[0m\u001b[0mi\u001b[0m\u001b[1;33m]\u001b[0m\u001b[1;33m.\u001b[0m\u001b[0mvalues\u001b[0m\u001b[1;33m)\u001b[0m\u001b[1;33m[\u001b[0m\u001b[1;36m2\u001b[0m\u001b[1;33m]\u001b[0m\u001b[1;33m\u001b[0m\u001b[1;33m\u001b[0m\u001b[0m\n\u001b[0;32m      5\u001b[0m     \u001b[0mc4\u001b[0m \u001b[1;33m=\u001b[0m \u001b[0mtuple\u001b[0m\u001b[1;33m(\u001b[0m\u001b[0mdf\u001b[0m\u001b[1;33m.\u001b[0m\u001b[0miloc\u001b[0m\u001b[1;33m[\u001b[0m\u001b[0mi\u001b[0m\u001b[1;33m]\u001b[0m\u001b[1;33m.\u001b[0m\u001b[0mvalues\u001b[0m\u001b[1;33m)\u001b[0m\u001b[1;33m[\u001b[0m\u001b[1;36m3\u001b[0m\u001b[1;33m]\u001b[0m\u001b[1;33m\u001b[0m\u001b[1;33m\u001b[0m\u001b[0m\n\u001b[1;32m----> 6\u001b[1;33m     \u001b[0mcursor\u001b[0m\u001b[1;33m.\u001b[0m\u001b[0mexecute\u001b[0m\u001b[1;33m(\u001b[0m\u001b[1;34m\"\"\"INSERT INTO Accounting_Analysts.dbo.CODA_DBS_Lookup_test values ({}, {}, {}, {})\"\"\"\u001b[0m\u001b[1;33m.\u001b[0m\u001b[0mformat\u001b[0m\u001b[1;33m(\u001b[0m\u001b[0mc1\u001b[0m\u001b[1;33m,\u001b[0m\u001b[0mc2\u001b[0m\u001b[1;33m,\u001b[0m\u001b[0mc3\u001b[0m\u001b[1;33m,\u001b[0m\u001b[0mc4\u001b[0m\u001b[1;33m)\u001b[0m\u001b[1;33m)\u001b[0m\u001b[1;33m\u001b[0m\u001b[1;33m\u001b[0m\u001b[0m\n\u001b[0m\u001b[0;32m      7\u001b[0m \u001b[0mconn\u001b[0m\u001b[1;33m.\u001b[0m\u001b[0mcommit\u001b[0m\u001b[1;33m(\u001b[0m\u001b[1;33m)\u001b[0m\u001b[1;33m\u001b[0m\u001b[1;33m\u001b[0m\u001b[0m\n\u001b[0;32m      8\u001b[0m \u001b[0mcursor\u001b[0m\u001b[1;33m.\u001b[0m\u001b[0mclose\u001b[0m\u001b[1;33m(\u001b[0m\u001b[1;33m)\u001b[0m\u001b[1;33m\u001b[0m\u001b[1;33m\u001b[0m\u001b[0m\n",
      "\u001b[1;31mProgrammingError\u001b[0m: ('42000', \"[42000] [Microsoft][ODBC SQL Server Driver][SQL Server]Incorrect syntax near 'Rental'. (102) (SQLExecDirectW)\")"
     ]
    }
   ],
   "source": [
    "for i in range(len(df)):\n",
    "    c1 = tuple(df.iloc[i].values)[0]\n",
    "    c2 = tuple(df.iloc[i].values)[1]\n",
    "    c3 = tuple(df.iloc[i].values)[2]\n",
    "    c4 = tuple(df.iloc[i].values)[3]\n",
    "    cursor.execute(\"\"\"INSERT INTO Accounting_Analysts.dbo.CODA_DBS_Lookup_test ('') values ({}, {}, {}, {})\"\"\".format(c1,c2,c3,c4))\n",
    "conn.commit()\n",
    "cursor.close()"
   ]
  },
  {
   "cell_type": "code",
   "execution_count": 113,
   "metadata": {},
   "outputs": [
    {
     "data": {
      "text/plain": [
       "'PSD Rental'"
      ]
     },
     "execution_count": 113,
     "metadata": {},
     "output_type": "execute_result"
    }
   ],
   "source": [
    "c3"
   ]
  }
 ],
 "metadata": {
  "kernelspec": {
   "display_name": "Python 3",
   "language": "python",
   "name": "python3"
  },
  "language_info": {
   "codemirror_mode": {
    "name": "ipython",
    "version": 3
   },
   "file_extension": ".py",
   "mimetype": "text/x-python",
   "name": "python",
   "nbconvert_exporter": "python",
   "pygments_lexer": "ipython3",
   "version": "3.8.3"
  }
 },
 "nbformat": 4,
 "nbformat_minor": 4
}
